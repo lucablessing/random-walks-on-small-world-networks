{
 "cells": [
  {
   "cell_type": "markdown",
   "metadata": {},
   "source": [
    "**ONE DIMENSIONAL KLEINBERG MODEL**\n",
    "\n",
    "Definition of the circular distance over a graph"
   ]
  },
  {
   "cell_type": "code",
   "execution_count": 5,
   "metadata": {},
   "outputs": [],
   "source": [
    "import networkx as nx"
   ]
  },
  {
   "cell_type": "code",
   "execution_count": 6,
   "metadata": {},
   "outputs": [],
   "source": [
    "def dist(a,b,N): #a and b vertex, while N is the total number of vertices\n",
    "    if abs(a-b)<N/2:\n",
    "        return abs(a-b)\n",
    "    else :\n",
    "        return N-abs(a-b)"
   ]
  },
  {
   "cell_type": "markdown",
   "metadata": {},
   "source": [
    "Definition of the Kleinber one dimensional model"
   ]
  },
  {
   "cell_type": "code",
   "execution_count": 20,
   "metadata": {},
   "outputs": [],
   "source": [
    "def one_dim_Kleinberg(N,r):\n",
    "    R=nx.path_graph(N)\n",
    "    #computation of Z, the graph is symmteric that this Z can be computed over any vertex\n",
    "    Z=0\n",
    "    for v in R :\n",
    "        if v!=0:\n",
    "            Z=Z+dist(0,v,N)**(-r)\n",
    "    #random construction of edges\n",
    "    import random\n",
    "    for x in R:\n",
    "        for y in R:\n",
    "            if x<y: #to avoid self loop and also double count on the edges\n",
    "                if random.uniform(0, 1)<(dist(x,y,N)**(-r)/Z):\n",
    "                    R.add_edge(x,y) \n",
    "    return R"
   ]
  },
  {
   "cell_type": "markdown",
   "metadata": {},
   "source": [
    "Here we have an interact plot"
   ]
  },
  {
   "cell_type": "code",
   "execution_count": 23,
   "metadata": {
    "scrolled": true
   },
   "outputs": [
    {
     "data": {
      "application/vnd.jupyter.widget-view+json": {
       "model_id": "46462f003b1b4bf397f2de1ec750531b",
       "version_major": 2,
       "version_minor": 0
      },
      "text/plain": [
       "interactive(children=(IntSlider(value=41, description='N', max=80, min=2), FloatSlider(value=2.0, description=…"
      ]
     },
     "metadata": {},
     "output_type": "display_data"
    }
   ],
   "source": [
    "from ipywidgets import interact\n",
    "%matplotlib inline\n",
    "import matplotlib.pyplot as plt\n",
    "\n",
    "def plot(N,r):\n",
    "    g = one_dim_Kleinberg(N,r)\n",
    "    nx.draw(g)\n",
    "    plt.show()\n",
    "\n",
    "interact(plot, N=(2,80), r=(0,4,0.5));"
   ]
  },
  {
   "cell_type": "code",
   "execution_count": null,
   "metadata": {},
   "outputs": [],
   "source": []
  }
 ],
 "metadata": {
  "kernelspec": {
   "display_name": "Python 3",
   "language": "python",
   "name": "python3"
  },
  "language_info": {
   "codemirror_mode": {
    "name": "ipython",
    "version": 3
   },
   "file_extension": ".py",
   "mimetype": "text/x-python",
   "name": "python",
   "nbconvert_exporter": "python",
   "pygments_lexer": "ipython3",
   "version": "3.8.2"
  }
 },
 "nbformat": 4,
 "nbformat_minor": 4
}
