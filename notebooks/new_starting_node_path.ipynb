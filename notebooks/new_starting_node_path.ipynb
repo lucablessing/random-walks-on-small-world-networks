{
 "cells": [
  {
   "cell_type": "code",
   "execution_count": 1,
   "metadata": {},
   "outputs": [],
   "source": [
    "import networkx as nx\n",
    "import numpy as np\n",
    "\n",
    "%matplotlib inline\n",
    "import matplotlib.pyplot as plt\n",
    "from multiprocessing import Pool, cpu_count\n",
    "from tqdm.notebook import trange, tqdm\n",
    "from time import time\n",
    "from ipywidgets import interact, fixed\n",
    "\n",
    "import seaborn as sns\n",
    "sns.set()\n",
    "\n",
    "import os, sys\n",
    "currentdir = os.path.dirname(os.path.realpath(__name__))\n",
    "scriptsdir = os.path.dirname(currentdir)+'/scripts'\n",
    "sys.path.append(scriptsdir)\n",
    "\n",
    "from distances import dist_1d, dist_2d_lattice, dist_2d_spacial\n",
    "from random_walks import simple_2d_random_walk, lazy_2d_random_walk\n",
    "from generate_graph import Kleinberg_2d, small_world_2d, small_world_2d_new, sparse_lattice_graph"
   ]
  },
  {
   "cell_type": "markdown",
   "metadata": {},
   "source": [
    "Two necessary functions"
   ]
  },
  {
   "cell_type": "code",
   "execution_count": 2,
   "metadata": {},
   "outputs": [],
   "source": [
    "def get_path_forG(G, L, max_steps=int(1e2), max_walks=int(1e3),  start_node=(0,0), use_random_starting_node=False,\n",
    "             random_walk_function=lazy_2d_random_walk):\n",
    "    '''\n",
    "    Given a Graph G and a type of random walk, it returns a list containing the nodes visited\n",
    "    for a random path of time max_steps for each max_walks random path\n",
    "    \n",
    "    Arguments:\n",
    "    - G: graph\n",
    "    - L: number of nodes on line\n",
    "    - r: parameter for the long range decay\n",
    "    - max_steps: time of the random path\n",
    "    - max_walks: number of random path (walk) considered\n",
    "    - start_node: initial node\n",
    "    - use_random_starting_node: if True the starting node is random\n",
    "    - random_walk_function: simple_2d_random_walk_parallel for default\n",
    "    \n",
    "    Return:\n",
    "    - np.array(paths):\n",
    "        - paths[i]: list of visited nodes for the i-th walk\n",
    "        - paths[i][-1]: last node visited by the i-th path\n",
    "    '''\n",
    "    # seed list\n",
    "    seed_list = np.random.permutation(np.arange(0, max_walks)).tolist()\n",
    "\n",
    "    # list of random walks (dim = (max_walks, max_steps))\n",
    "    pool = Pool(cpu_count())\n",
    "    paths = np.array(pool.starmap_async(random_walk_function, [(G, L, max_steps, start_node, use_random_starting_node, seed) for seed in seed_list]).get())[:,:,1]\n",
    "    pool.close()\n",
    "    #starting_paths.append(paths)\n",
    "    \n",
    "    return paths\n",
    "\n",
    "def increase_walks_forG(G, L, paths, max_steps=int(1e2), max_walks=int(1e3), start_node=(0,0), use_random_starting_node=False,\n",
    "             random_walk_function=lazy_2d_random_walk):\n",
    "    '''\n",
    "    This increases the walks of the paths got from the get_path_forG\n",
    "    \n",
    "    Arguments:\n",
    "    - G: graph\n",
    "    - L: number of nodes on line\n",
    "    - r: parameter for the long range decay\n",
    "    - max_steps: time of the random path\n",
    "    - max_walks: number of random path (walk) considered\n",
    "    - start_node: initial node\n",
    "    - use_random_starting_node: if True the starting node is random\n",
    "    - random_walk_function: simple_2d_random_walk_parallel for default\n",
    "    \n",
    "    Return:\n",
    "    - np.array(paths):\n",
    "        - paths[i]: list of visited nodes for the i-th walk\n",
    "    '''\n",
    "    # seed list\n",
    "    seed_list = np.random.permutation(np.arange(0, max_walks)).tolist()\n",
    "\n",
    "    # list of random walks (dim = (max_walks, max_steps))\n",
    "    pool = Pool(cpu_count())\n",
    "    new_paths = np.array(pool.starmap_async(random_walk_function, \n",
    "                        [(G, L, max_steps, start_node, use_random_starting_node, seed) \n",
    "                         for seed in seed_list]).get())[:,:,1]\n",
    "    pool.close()\n",
    "    increased_paths=np.append(paths,new_paths,axis=0)\n",
    "    return np.array(increased_paths)"
   ]
  },
  {
   "cell_type": "markdown",
   "metadata": {},
   "source": [
    "We start by generating some paths with starting node (0,0)"
   ]
  },
  {
   "cell_type": "code",
   "execution_count": 3,
   "metadata": {},
   "outputs": [
    {
     "name": "stdout",
     "output_type": "stream",
     "text": [
      "12.405115842819214\n",
      "(20000, 100, 2)\n"
     ]
    }
   ],
   "source": [
    "L=20\n",
    "r=2\n",
    "G=small_world_2d_new(L,r)\n",
    "max_steps=100\n",
    "max_walks=20000\n",
    "tic=time()\n",
    "paths=get_path_forG(G,L,max_steps=max_steps, max_walks=max_walks)\n",
    "toc=time()\n",
    "print(toc-tic)\n",
    "print(paths.shape)"
   ]
  },
  {
   "cell_type": "markdown",
   "metadata": {},
   "source": [
    "Now the main idea to get new paths with a define starting node called (find_node) is to perform a for cycle and for each path we compute the minimum index where we get the find_node, from it we'll define a new_path and of course it'll have a smaller number of steps, therefore we'll add new steps id order to get the same max_steps.\n",
    "At the end, since not every path contains the find_node we will add also new path id order to have the same statistic that we can infer from max_walks"
   ]
  },
  {
   "cell_type": "code",
   "execution_count": 5,
   "metadata": {},
   "outputs": [],
   "source": [
    "def get_new_start(paths,max_steps, max_walks, find_node):\n",
    "    \"\"\"\n",
    "    INPUT:\n",
    "        paths = is the initial paths\n",
    "        max_steps = is the fixed number of steps that we want to\n",
    "        max_walks = is the fixed number of paths that we want to\n",
    "        find_node = is the starting node that we are looking for\n",
    "    \"\"\"\n",
    "    new_paths=[]\n",
    "    for path in paths:\n",
    "        # finding the node\n",
    "        idx=np.argmax((path==find_node).sum(axis=1))\n",
    "        \"\"\"\n",
    "        idx==0 could also means that we didn't find the find_node in the path, therefore to exclude this possibility\n",
    "        if the first node reached is not our find_node this means that idx=0 tells us there's no find_node in the path\n",
    "        \"\"\"\n",
    "        if idx==0 :\n",
    "            if (path[0]!=np.array(find_node)).any():\n",
    "                # this means that I didn't find the node, hence I continue\n",
    "                continue\n",
    "        new_path=path[idx:] # new path\n",
    "        \n",
    "        # now we add new steps\n",
    "        if len(new_path)!=max_steps :\n",
    "            new_steps=max_steps-len(new_path)\n",
    "            # new path with starting node (new_path[-1][0],new_path[-1][1]))\n",
    "            new_path_steps=np.array(lazy_2d_random_walk(G,L,max_steps=new_steps,\n",
    "                                                    start_node=(new_path[-1][0],new_path[-1][1])))[:,1]\n",
    "            # here we merge the two paths\n",
    "            new_path=np.append(new_path,new_path_steps,axis=0)\n",
    "        new_paths.append(new_path)\n",
    "    new_paths=np.array(new_paths)\n",
    "    \n",
    "    # here we add new walks, precisely max_walks-new_paths.shape[0]\n",
    "    new_paths=increase_walks_forG(G,L,new_paths,max_steps=max_steps, \n",
    "                              max_walks=max_walks-new_paths.shape[0],start_node=find_node)\n",
    "    return new_paths"
   ]
  },
  {
   "cell_type": "markdown",
   "metadata": {},
   "source": [
    "Let's try to find new paths for find_node=(4,2)"
   ]
  },
  {
   "cell_type": "code",
   "execution_count": 6,
   "metadata": {},
   "outputs": [
    {
     "name": "stdout",
     "output_type": "stream",
     "text": [
      "7.840587139129639\n",
      "(20000, 100, 2)\n"
     ]
    }
   ],
   "source": [
    "find_node=(4,2)\n",
    "tic=time()\n",
    "new_paths=get_new_start(paths, max_steps, max_walks, find_node)\n",
    "toc=time()\n",
    "print(toc-tic)\n",
    "print(new_paths.shape)"
   ]
  },
  {
   "cell_type": "markdown",
   "metadata": {},
   "source": [
    "Or for find_node=(13,17)"
   ]
  },
  {
   "cell_type": "code",
   "execution_count": 7,
   "metadata": {},
   "outputs": [
    {
     "name": "stdout",
     "output_type": "stream",
     "text": [
      "8.748890161514282\n",
      "(20000, 100, 2)\n"
     ]
    }
   ],
   "source": [
    "find_node=(13,17)\n",
    "tic=time()\n",
    "new_paths=get_new_start(paths, max_steps, max_walks, find_node)\n",
    "toc=time()\n",
    "print(toc-tic)\n",
    "print(new_paths.shape)"
   ]
  },
  {
   "cell_type": "markdown",
   "metadata": {},
   "source": [
    "What if I would had to compute the entire paths?"
   ]
  },
  {
   "cell_type": "code",
   "execution_count": 8,
   "metadata": {},
   "outputs": [
    {
     "name": "stdout",
     "output_type": "stream",
     "text": [
      "12.7581148147583\n",
      "(20000, 100, 2)\n"
     ]
    }
   ],
   "source": [
    "start_node=(4,2)\n",
    "tic=time()\n",
    "paths=get_path_forG(G,L,max_steps=max_steps, max_walks=max_walks, start_node=start_node)\n",
    "toc=time()\n",
    "print(toc-tic)\n",
    "print(paths.shape)"
   ]
  },
  {
   "cell_type": "code",
   "execution_count": 9,
   "metadata": {},
   "outputs": [
    {
     "name": "stdout",
     "output_type": "stream",
     "text": [
      "13.602208852767944\n",
      "(20000, 100, 2)\n"
     ]
    }
   ],
   "source": [
    "start_node=(13,17)\n",
    "tic=time()\n",
    "paths=get_path_forG(G,L,max_steps=max_steps, max_walks=max_walks, start_node=start_node)\n",
    "toc=time()\n",
    "print(toc-tic)\n",
    "print(paths.shape)"
   ]
  },
  {
   "cell_type": "code",
   "execution_count": null,
   "metadata": {},
   "outputs": [],
   "source": []
  }
 ],
 "metadata": {
  "kernelspec": {
   "display_name": "Python 3",
   "language": "python",
   "name": "python3"
  },
  "language_info": {
   "codemirror_mode": {
    "name": "ipython",
    "version": 3
   },
   "file_extension": ".py",
   "mimetype": "text/x-python",
   "name": "python",
   "nbconvert_exporter": "python",
   "pygments_lexer": "ipython3",
   "version": "3.8.2"
  }
 },
 "nbformat": 4,
 "nbformat_minor": 4
}
